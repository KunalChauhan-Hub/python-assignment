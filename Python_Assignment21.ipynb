{
  "nbformat": 4,
  "nbformat_minor": 0,
  "metadata": {
    "colab": {
      "provenance": []
    },
    "kernelspec": {
      "name": "python3",
      "display_name": "Python 3"
    },
    "language_info": {
      "name": "python"
    }
  },
  "cells": [
    {
      "cell_type": "markdown",
      "source": [
        "Q.1: Add the current date to the text file today.txt as a string."
      ],
      "metadata": {
        "id": "NoNKpfY6ZXYg"
      }
    },
    {
      "cell_type": "code",
      "execution_count": 1,
      "metadata": {
        "id": "BxC_ZxlaZVoV"
      },
      "outputs": [],
      "source": [
        "from datetime import date\n",
        "now = date.today()\n",
        "now_str = now.isoformat()\n",
        "with open('today.txt', 'wt') as output:\n",
        "    print(now_str, file=output)"
      ]
    },
    {
      "cell_type": "markdown",
      "source": [
        "Q.2: Read the text file today.txt into the string today_string"
      ],
      "metadata": {
        "id": "BLNul2qeZyNK"
      }
    },
    {
      "cell_type": "code",
      "source": [
        "with open('today.txt', 'rt') as input:\n",
        "    today_string = input.read()\n",
        "    \n",
        "today_string"
      ],
      "metadata": {
        "colab": {
          "base_uri": "https://localhost:8080/",
          "height": 36
        },
        "id": "TKexeQ92Z8us",
        "outputId": "01d1fda6-44aa-4d77-a053-5d4a01622ada"
      },
      "execution_count": 2,
      "outputs": [
        {
          "output_type": "execute_result",
          "data": {
            "text/plain": [
              "'2023-04-02\\n'"
            ],
            "application/vnd.google.colaboratory.intrinsic+json": {
              "type": "string"
            }
          },
          "metadata": {},
          "execution_count": 2
        }
      ]
    },
    {
      "cell_type": "markdown",
      "source": [
        "Q.3: Parse the date from today_string."
      ],
      "metadata": {
        "id": "KrTuFaJraCmY"
      }
    },
    {
      "cell_type": "code",
      "source": [
        "from datetime import datetime\n",
        "fmt = '%Y-%m-%d\\n'\n",
        "datetime.strptime(today_string, fmt)"
      ],
      "metadata": {
        "colab": {
          "base_uri": "https://localhost:8080/"
        },
        "id": "xtCLCvwgaJCg",
        "outputId": "4af6aa63-2de1-41fc-e420-d9e26da03363"
      },
      "execution_count": 3,
      "outputs": [
        {
          "output_type": "execute_result",
          "data": {
            "text/plain": [
              "datetime.datetime(2023, 4, 2, 0, 0)"
            ]
          },
          "metadata": {},
          "execution_count": 3
        }
      ]
    },
    {
      "cell_type": "markdown",
      "source": [
        "Q.4: List the files in your current directory"
      ],
      "metadata": {
        "id": "gf0cEbHuaP-5"
      }
    },
    {
      "cell_type": "code",
      "source": [
        "import os\n",
        "os.listdir('.')"
      ],
      "metadata": {
        "colab": {
          "base_uri": "https://localhost:8080/"
        },
        "id": "pKBpzqT9aX9u",
        "outputId": "534fbb54-486f-4d2a-ffd4-d58b54dd66de"
      },
      "execution_count": 4,
      "outputs": [
        {
          "output_type": "execute_result",
          "data": {
            "text/plain": [
              "['.config', 'today.txt', 'sample_data']"
            ]
          },
          "metadata": {},
          "execution_count": 4
        }
      ]
    },
    {
      "cell_type": "markdown",
      "source": [
        "Q.5: Create a list of all of the files in your parent directory (minimum five files should be available)."
      ],
      "metadata": {
        "id": "K6YOj2Z1aw4B"
      }
    },
    {
      "cell_type": "code",
      "source": [
        "os.listdir('..')"
      ],
      "metadata": {
        "colab": {
          "base_uri": "https://localhost:8080/"
        },
        "id": "Y3x9PRmXa1yG",
        "outputId": "940c1654-9f92-4771-887a-f608575e0f81"
      },
      "execution_count": 5,
      "outputs": [
        {
          "output_type": "execute_result",
          "data": {
            "text/plain": [
              "['media',\n",
              " 'sbin',\n",
              " 'boot',\n",
              " 'srv',\n",
              " 'dev',\n",
              " 'lib64',\n",
              " 'lib32',\n",
              " 'root',\n",
              " 'lib',\n",
              " 'home',\n",
              " 'tmp',\n",
              " 'bin',\n",
              " 'proc',\n",
              " 'mnt',\n",
              " 'libx32',\n",
              " 'sys',\n",
              " 'opt',\n",
              " 'etc',\n",
              " 'usr',\n",
              " 'var',\n",
              " 'run',\n",
              " 'content',\n",
              " '.dockerenv',\n",
              " 'datalab',\n",
              " 'tools',\n",
              " 'python-apt',\n",
              " 'NGC-DL-CONTAINER-LICENSE']"
            ]
          },
          "metadata": {},
          "execution_count": 5
        }
      ]
    },
    {
      "cell_type": "markdown",
      "source": [
        "Q.6: Use multiprocessing to create three separate processes. Make each one wait a random number of\n",
        "seconds between one and five, print the current time, and then exit."
      ],
      "metadata": {
        "id": "L81w0OQ-bNoM"
      }
    },
    {
      "cell_type": "code",
      "source": [
        "!python multi_process.py"
      ],
      "metadata": {
        "colab": {
          "base_uri": "https://localhost:8080/"
        },
        "id": "0OlMpYjmbS8e",
        "outputId": "db633b52-9a76-4aca-8790-0af9e36572dd"
      },
      "execution_count": 6,
      "outputs": [
        {
          "output_type": "stream",
          "name": "stdout",
          "text": [
            "python3: can't open file '/content/multi_process.py': [Errno 2] No such file or directory\n"
          ]
        }
      ]
    },
    {
      "cell_type": "markdown",
      "source": [
        "Q.7: Create a date object of your day of birth."
      ],
      "metadata": {
        "id": "ZYoaRvF0bflt"
      }
    },
    {
      "cell_type": "code",
      "source": [
        "my_day = date(1999, 12, 7)\n",
        "my_day"
      ],
      "metadata": {
        "colab": {
          "base_uri": "https://localhost:8080/"
        },
        "id": "m_o14TUGbozS",
        "outputId": "64c26b5d-c467-4f2c-dbfc-8b9f09648763"
      },
      "execution_count": 7,
      "outputs": [
        {
          "output_type": "execute_result",
          "data": {
            "text/plain": [
              "datetime.date(1999, 12, 7)"
            ]
          },
          "metadata": {},
          "execution_count": 7
        }
      ]
    },
    {
      "cell_type": "markdown",
      "source": [
        "Q.8: What day of the week was your day of birth?"
      ],
      "metadata": {
        "id": "HzHBPAThb2bW"
      }
    },
    {
      "cell_type": "code",
      "source": [
        "my_day.weekday()"
      ],
      "metadata": {
        "colab": {
          "base_uri": "https://localhost:8080/"
        },
        "id": "_xQGED5Nb856",
        "outputId": "5b154fdf-43aa-415b-911a-d222a6383567"
      },
      "execution_count": 8,
      "outputs": [
        {
          "output_type": "execute_result",
          "data": {
            "text/plain": [
              "1"
            ]
          },
          "metadata": {},
          "execution_count": 8
        }
      ]
    },
    {
      "cell_type": "code",
      "source": [
        "my_day.isoweekday()"
      ],
      "metadata": {
        "colab": {
          "base_uri": "https://localhost:8080/"
        },
        "id": "IgKWRZEOcPmv",
        "outputId": "9ad2e941-b404-4f1a-c1bb-68dc4347c4a6"
      },
      "execution_count": 9,
      "outputs": [
        {
          "output_type": "execute_result",
          "data": {
            "text/plain": [
              "2"
            ]
          },
          "metadata": {},
          "execution_count": 9
        }
      ]
    },
    {
      "cell_type": "markdown",
      "source": [
        "Q.9: When will you be (or when were you) 10,000 days old?"
      ],
      "metadata": {
        "id": "EsdvXJR5cYxg"
      }
    },
    {
      "cell_type": "code",
      "source": [
        "from datetime import timedelta\n",
        "ten_thousand = my_day + timedelta(days=10000)\n",
        "ten_thousand"
      ],
      "metadata": {
        "colab": {
          "base_uri": "https://localhost:8080/"
        },
        "id": "5HLzIj8wchx_",
        "outputId": "5a2262bc-b121-4a09-8f0d-005e0bafb25e"
      },
      "execution_count": 10,
      "outputs": [
        {
          "output_type": "execute_result",
          "data": {
            "text/plain": [
              "datetime.date(2027, 4, 24)"
            ]
          },
          "metadata": {},
          "execution_count": 10
        }
      ]
    }
  ]
}