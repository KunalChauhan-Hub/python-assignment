{
  "nbformat": 4,
  "nbformat_minor": 0,
  "metadata": {
    "colab": {
      "provenance": []
    },
    "kernelspec": {
      "name": "python3",
      "display_name": "Python 3"
    },
    "language_info": {
      "name": "python"
    }
  },
  "cells": [
    {
      "cell_type": "markdown",
      "source": [
        "Q.1: What is the relationship between def statements and lambda expressions ?\n",
        "\n",
        "Ans: As an expression, lambda returns a value that can optionally be assigned a name. In contrast, the def statement always assigns the new function to the name in the header, instead of returning is as a result. lambda's body is a single expression, not a block of statements\n",
        "\n",
        "Q.2: What is the benefit of lambda?\n",
        "\n",
        "Ans: The lambda keyword in Python provides a shortcut for declaring small anonymous functions. Lambda functions behave just like regular functions declared with the def keyword. They can be used whenever function objects are required.\n",
        "\n",
        "Q.3: Compare and contrast map, filter, and reduce.\n",
        "\n",
        "Ans: Map operation takes a mapping function and a vector of data as arguments and returns a new vector, which is the result of applying the mapping function on each element of the vector independently. The returned value from map() (map object) then can be passed to functions like list() (to create a list), set() (to create a set) and so on.\n",
        "\n",
        "The filter function operates on a list and returns a subset of that list after applying the filtering rule.\n",
        "\n",
        "The reduce function will transform a given list into a single value by applying a given function continuously to all the elements. It basically keeps operating on pairs of elements until there are no more elements left.\n",
        "\n",
        "Q.4: What are function annotations, and how are they used?\n",
        "\n",
        "Ans: Function annotations are completely optional both for parameters and return value. Function annotations provide a way of associating various parts of a function with arbitrary python expressions at compile time.\n",
        "\n",
        "Syntax of function annotations for simple parameters and for excess parameters respectively:\n",
        "\n",
        "def foobar(a: expression, b: expression = 5):\n",
        "\n",
        "def foobar(args: expression, kwargs: expression):\n",
        "\n",
        "Q.5: What are recursive functions, and how are they used?\n",
        "\n",
        "Ans: A recursive function is a function defined in terms of itself via self-referential expressions. This means that the function will continue to call itself and repeat its behavior until some condition is met to return a result.\n"
      ],
      "metadata": {
        "id": "gV07nHg5-yWu"
      }
    },
    {
      "cell_type": "code",
      "execution_count": 1,
      "metadata": {
        "colab": {
          "base_uri": "https://localhost:8080/"
        },
        "id": "TQOltKWZ9t9p",
        "outputId": "042ba5c7-8ed4-4783-effc-0bc7a546069d"
      },
      "outputs": [
        {
          "output_type": "stream",
          "name": "stdout",
          "text": [
            "Recursion Example Results\n",
            "1\n",
            "3\n",
            "6\n",
            "10\n",
            "15\n",
            "21\n"
          ]
        },
        {
          "output_type": "execute_result",
          "data": {
            "text/plain": [
              "21"
            ]
          },
          "metadata": {},
          "execution_count": 1
        }
      ],
      "source": [
        "def tri_recursion(k):\n",
        "  if(k>0):\n",
        "    result = k+tri_recursion(k-1)\n",
        "    print(result)\n",
        "  else:\n",
        "    result = 0\n",
        "  return result\n",
        "\n",
        "print(\"Recursion Example Results\")\n",
        "tri_recursion(6)"
      ]
    },
    {
      "cell_type": "markdown",
      "source": [
        "Q.6: What are some general design guidelines for coding functions?\n",
        "\n",
        "Ans: Use 4-space indentation and no tabs.\n",
        "\n",
        "Use docstrings\n",
        "\n",
        "Wrap lines so that they don’t exceed 79 characters\n",
        "\n",
        "Use of regular and updated comments are valuable to both the coders and users\n",
        "\n",
        "Q.7: Name three or more ways that functions can communicate results to a caller.\n",
        "\n",
        "Ans: To call a function, we specify the function name with the round brackets.\n",
        "\n",
        "Use of return keyword inside function which returns the results to the caller.\n",
        "\n",
        "Use of print statement inside function which prints the results to the caller."
      ],
      "metadata": {
        "id": "MitpRuQW_mkR"
      }
    }
  ]
}