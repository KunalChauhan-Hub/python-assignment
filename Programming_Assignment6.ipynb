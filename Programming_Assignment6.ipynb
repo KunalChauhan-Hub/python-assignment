{
 "cells": [
  {
   "cell_type": "code",
   "execution_count": 1,
   "id": "0319c421-eaf9-4704-9fb3-b7090b08cd9d",
   "metadata": {},
   "outputs": [
    {
     "name": "stdout",
     "output_type": "stream",
     "text": [
      "Fibonacci sequence:\n",
      "0\n",
      "1\n",
      "1\n",
      "2\n",
      "3\n",
      "5\n",
      "8\n",
      "13\n",
      "21\n",
      "34\n",
      "55\n",
      "89\n",
      "144\n",
      "233\n",
      "377\n"
     ]
    }
   ],
   "source": [
    "#Question No.1\n",
    "def fseq(n):\n",
    "    if n <= 1:\n",
    "        return n\n",
    "    else:\n",
    "        return(fseq(n-1) + fseq(n-2))\n",
    "\n",
    "nterms = 15\n",
    "\n",
    "if nterms <= 0:\n",
    "    print(\"Plese enter a positive integer\")\n",
    "else:\n",
    "    print(\"Fibonacci sequence:\")\n",
    "    for i in range(nterms):\n",
    "        print(fseq(i))"
   ]
  },
  {
   "cell_type": "code",
   "execution_count": 6,
   "id": "ac3f68a2-3483-4e36-b2dc-ce1fe5c8c670",
   "metadata": {},
   "outputs": [
    {
     "name": "stdout",
     "output_type": "stream",
     "text": [
      "The factorial of 20 is 2432902008176640000\n"
     ]
    }
   ],
   "source": [
    "#Question No.2\n",
    "def factorial(n):\n",
    "    if n==1:\n",
    "        return n\n",
    "    else:\n",
    "        return n * factorial(n-1)\n",
    "num = 20\n",
    "if num < 0:\n",
    "    print(\"Sorry, factorial does not exist for negative numbers\")\n",
    "elif num == 0:\n",
    "    print(\"The factorial of 0 is 1\")\n",
    "else:\n",
    "    print(\"The factorial of\", num, \"is\", factorial(num))"
   ]
  },
  {
   "cell_type": "code",
   "execution_count": 11,
   "id": "0f9e725a-f991-478b-ab33-14cfe69497ae",
   "metadata": {},
   "outputs": [
    {
     "name": "stdin",
     "output_type": "stream",
     "text": [
      "Enter your height in cm:  157\n",
      "Enter your weight in kg:  60\n"
     ]
    },
    {
     "name": "stdout",
     "output_type": "stream",
     "text": [
      "Enter your height in cm: 157.0\n",
      "Enter your weight in kg: 60.0\n",
      "Your BMI is 24.341758286340216\n",
      "You are healthy.\n"
     ]
    }
   ],
   "source": [
    "#Question No.3\n",
    "height = float(input(\"Enter your height in cm: \"))\n",
    "weight = float(input(\"Enter your weight in kg: \"))\n",
    "print(f\"Enter your height in cm: {height}\")\n",
    "print(f\"Enter your weight in kg: {weight}\")\n",
    "BMI = weight / (height/100)**2\n",
    "print(f\"Your BMI is {BMI}\")\n",
    "if BMI <= 18.4:\n",
    "    print(\"You are underweight.\")\n",
    "elif BMI <= 24.9:\n",
    "    print(\"You are healthy.\")\n",
    "elif BMI <= 29.9:\n",
    "    print(\"You are over weight.\")\n",
    "elif BMI <= 34.9:\n",
    "    print(\"You are severely over weight.\")\n",
    "elif BMI <= 39.9:\n",
    "    print(\"You are obese.\")\n",
    "else:\n",
    "    print(\"You are severely obese.\")"
   ]
  },
  {
   "cell_type": "code",
   "execution_count": 12,
   "id": "89a5997b-215d-43c9-936c-0609cf45e1db",
   "metadata": {},
   "outputs": [
    {
     "name": "stdin",
     "output_type": "stream",
     "text": [
      "Enter the number:  15\n"
     ]
    },
    {
     "name": "stdout",
     "output_type": "stream",
     "text": [
      "Enter the number: 15\n",
      "The value is: 2.70805020110221\n"
     ]
    }
   ],
   "source": [
    "#Question No.4\n",
    "import math\n",
    "number = int(input(\"Enter the number: \"))\n",
    "print(f\"Enter the number: {number}\")\n",
    "ans = math.log(number)\n",
    "print(\"The value is:\",ans)"
   ]
  },
  {
   "cell_type": "code",
   "execution_count": 13,
   "id": "ddabbd9e-5504-4606-a6fd-d570632ef4f0",
   "metadata": {},
   "outputs": [
    {
     "name": "stdout",
     "output_type": "stream",
     "text": [
      "1296\n"
     ]
    }
   ],
   "source": [
    "#Question No.5\n",
    "def sum_(n):\n",
    "    x = (n * (n + 1) / 2)\n",
    "    return (int)(x * x)\n",
    "n = 8\n",
    "print(sum_(n))"
   ]
  }
 ],
 "metadata": {
  "kernelspec": {
   "display_name": "Python 3 (ipykernel)",
   "language": "python",
   "name": "python3"
  },
  "language_info": {
   "codemirror_mode": {
    "name": "ipython",
    "version": 3
   },
   "file_extension": ".py",
   "mimetype": "text/x-python",
   "name": "python",
   "nbconvert_exporter": "python",
   "pygments_lexer": "ipython3",
   "version": "3.10.6"
  }
 },
 "nbformat": 4,
 "nbformat_minor": 5
}
