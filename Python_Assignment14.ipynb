{
  "nbformat": 4,
  "nbformat_minor": 0,
  "metadata": {
    "colab": {
      "provenance": []
    },
    "kernelspec": {
      "name": "python3",
      "display_name": "Python 3"
    },
    "language_info": {
      "name": "python"
    }
  },
  "cells": [
    {
      "cell_type": "markdown",
      "source": [
        "Q.1: What does RGBA stand for?\n",
        "\n",
        "Ans: Red-Green-Blue-Alpha\n",
        "\n",
        "Q.2: From the Pillow module, how do you get the RGBA value of any images?\n",
        "\n",
        "Ans: In Pillow, RGBA values are represented by a tuple of four integer values. For example, the color red is represented by (255, 0, 0, 255).\n",
        "\n",
        "Q.3: What is a box tuple, and how does it work?\n",
        "\n",
        "Ans: Many of Pillow’s functions and methods take a box tuple argument. This means Pillow is expecting a tuple of four integer coordinates that represent a rectangular region in an image. The four integers are, in order, as follows:\n",
        "\n",
        "Left The x-coordinate of the leftmost edge of the box.\n",
        "\n",
        "Top The y-coordinate of the top edge of the box.\n",
        "\n",
        "Right The x-coordinate of one pixel to the right of the rightmost edge of the box. This integer must be greater than the left integer.\n",
        "\n",
        "Bottom The y-coordinate of one pixel lower than the bottom edge of the box. This integer must be greater than the top integer.\n",
        "\n",
        "Q.4: Use your image and load in notebook then, How can you find out the width and height of an\n",
        "Image object?\n",
        "\n",
        "Ans: from PIL import Image\n",
        "\n",
        "filepath = \"IMG_20220703_131219.jpg\"\n",
        "\n",
        "img = Image.open(filepath)\n",
        "  \n",
        "width = img.width\n",
        "\n",
        "height = img.height\n",
        "  \n",
        "print(\"The height of the image is: \", height)\n",
        "\n",
        "print(\"The width of the image is: \", width)\n",
        "\n",
        "Q.5: What method would you call to get Image object for a 100×100 image, excluding the lower-left\n",
        "quarter of it?\n",
        "\n",
        "Ans: imageObj.size is a tuple of two integers, the width and the height.\n",
        "\n",
        "imageObj.crop((0, 50, 50, 50)). Notice that you are passing a box tuple to crop(), not four separate integer arguments.\n",
        "\n",
        "Q.6: After making changes to an Image object, how could you save it as an image file?\n",
        "\n",
        "Ans:  imageObj.save('new_filename.png')\n",
        "\n",
        "Q.7: What module contains Pillow’s shape-drawing code?\n",
        "\n",
        "Ans: The 'ImageDraw' module provides simple 2D graphics support for Image Object.\n",
        "\n",
        "Q.8: Image objects do not have drawing methods. What kind of object does? How do you get this kind\n",
        "of object?\n",
        "\n",
        "Ans: ImageDraw objects have shape-drawing methods such as point(), line(), or rectangle(). They are returned by passing the Image object to the ImageDraw.Draw() function."
      ],
      "metadata": {
        "id": "SZZgb9PDuWG3"
      }
    }
  ]
}