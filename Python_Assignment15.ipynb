{
  "nbformat": 4,
  "nbformat_minor": 0,
  "metadata": {
    "colab": {
      "provenance": []
    },
    "kernelspec": {
      "name": "python3",
      "display_name": "Python 3"
    },
    "language_info": {
      "name": "python"
    }
  },
  "cells": [
    {
      "cell_type": "markdown",
      "source": [
        "Q.1: How many seconds are in an hour? Use the interactive interpreter as a calculator and multiply the\n",
        "number of seconds in a minute (60) by the number of minutes in an hour (also 60).\n",
        "\n",
        "Ans: 3600\n",
        "\n",
        "Q.2: Assign the result from the previous task (seconds in an hour) to a variable called\n",
        "seconds_per_hour.\n",
        "\n",
        "Ans: seconds_per_hour = 3600\n",
        "\n",
        "Q.3: How many seconds do you think there are in a day? Make use of the variables seconds per hour\n",
        "and minutes per hour.\n",
        "\n",
        "Ans: seconds_per_hour*24 = 86400\n",
        "\n",
        "Q.4: Calculate seconds per day again, but this time save the result in a variable called seconds_per_day\n",
        "\n",
        "Ans: seconds_per_day = seconds_per_hour*24\n",
        "\n",
        "Q.5: Divide seconds_per_day by seconds_per_hour. Use floating-point (/) division.\n",
        "\n",
        "Ans: seconds_per_day / seconds_per_hour\n",
        "\n",
        "Q.6: Divide seconds_per_day by seconds_per_hour, using integer (//) division. Did this number agree\n",
        "with the floating-point value from the previous question, aside from the final .0?\n",
        "\n",
        "Ans: Yes agree, seconds_per_day // seconds_per_hour\n",
        "\n",
        "\n",
        "Q.7: Write a generator, genPrimes, that returns the sequence of prime numbers on successive calls to\n",
        "its next() method: 2, 3, 5, 7, 11, ...\n",
        "\n",
        "Ans: "
      ],
      "metadata": {
        "id": "S-sE98kE3M3y"
      }
    },
    {
      "cell_type": "code",
      "source": [
        "def genPrimes():\n",
        "    \n",
        "    primes = [ 2, 3, 5, 7, 11 ]\n",
        "    \n",
        "    def isPrimeNumber(n):\n",
        "        if n in primes:\n",
        "            return True\n",
        "        \n",
        "        for elem in primes:\n",
        "            if n % elem == 0:\n",
        "                return False\n",
        "                \n",
        "        primes.append(n)\n",
        "        return True\n",
        "    num = 1\n",
        "    while True:\n",
        "        num += 1\n",
        "        if isPrimeNumber(num):\n",
        "            next = num\n",
        "            yield next\n",
        "            num = next\n",
        "primeNumber = genPrimes()\n",
        "\n",
        "for i in range(189):\n",
        "    print(primeNumber.__next__())"
      ],
      "metadata": {
        "id": "d8ocnTER8rks"
      },
      "execution_count": null,
      "outputs": []
    }
  ]
}