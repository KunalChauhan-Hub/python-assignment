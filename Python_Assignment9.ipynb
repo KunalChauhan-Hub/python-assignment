{
  "nbformat": 4,
  "nbformat_minor": 0,
  "metadata": {
    "colab": {
      "provenance": []
    },
    "kernelspec": {
      "name": "python3",
      "display_name": "Python 3"
    },
    "language_info": {
      "name": "python"
    }
  },
  "cells": [
    {
      "cell_type": "markdown",
      "source": [
        "Q.1: To what does a relative path refer?\n",
        "\n",
        "Ans: Relative paths are relative to the current working directory.\n",
        "\n",
        "Q.2: What does an absolute path start with your operating system?\n",
        "\n",
        "Ans: Absolute paths start with the root folder, such as / or C:\\.\n",
        "\n",
        "Q.3: What do the functions os.getcwd() and os.chdir() do?\n",
        "\n",
        "Ans: The os.getcwd() function returns the current working directory. The os.chdir() function changes the current working directory.\n",
        "\n",
        "Q.4: What are the . and .. folders?\n",
        "\n",
        "Ans: The . folder is the current folder, and .. is the parent folder.\n",
        "\n",
        "Q.5: In C:\\bacon\\eggs\\spam.txt, which part is the dir name, and which part is the base name?\n",
        "\n",
        "Ans: C:\\bacon\\eggs is the dir name, while spam.txt is the base name.\n",
        "\n",
        "Q.6: What are the three “mode” arguments that can be passed to the open() function?\n",
        "\n",
        "Ans: The string 'r' for read mode, 'w' for write mode, and 'a' for append mode.\n",
        "\n",
        "Q.7: What happens if an existing file is opened in write mode?\n",
        "\n",
        "Ans: An existing file opened in write mode is erased and completely overwritten.\n",
        "\n",
        "Q.8: How do you tell the difference between read() and readlines()?\n",
        "\n",
        "Ans: The read() method returns the file’s entire contents as a single string value. The readlines() method returns a list of strings, where each string is a line from the file’s contents.\n",
        "\n",
        "Q.9: What data structure does a shelf value resemble?\n",
        "\n",
        "Ans: A shelf value resembles a dictionary value; it has keys and values, along with keys() and values() methods that work similarly to the dictionary methods of the same names."
      ],
      "metadata": {
        "id": "ro6qBcYJEApk"
      }
    }
  ]
}