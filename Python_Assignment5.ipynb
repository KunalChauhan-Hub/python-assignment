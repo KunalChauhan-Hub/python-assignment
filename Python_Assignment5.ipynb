{
  "nbformat": 4,
  "nbformat_minor": 0,
  "metadata": {
    "colab": {
      "provenance": []
    },
    "kernelspec": {
      "name": "python3",
      "display_name": "Python 3"
    },
    "language_info": {
      "name": "python"
    }
  },
  "cells": [
    {
      "cell_type": "markdown",
      "source": [
        "Q.1: What does an empty dictionary&#39;s code look like?\n",
        "\n",
        "Ans: Two curly brackets: { }\n",
        "\n",
        "Q.2: What is the value of a dictionary value with the key &#39;foo&#39; and the value 42?\n",
        "\n",
        "Ans: {'foo': 42}\n",
        "\n",
        "Q.3: What is the most significant distinction between a dictionary and a list?\n",
        "\n",
        "Ans: The items stored in a dictionary are unordered, while the items in a list are ordered.\n",
        "\n",
        "Q.4: What happens if you try to access spam[&#39;foo&#39;] if spam is {&#39;bar&#39;: 100}?\n",
        "\n",
        "Ans: You get a KeyError error.\n",
        "\n",
        "Q.5: If a dictionary is stored in spam, what is the difference between the expressions &#39;cat&#39; in spam and\n",
        "&#39;cat&#39; in spam.keys()?\n",
        "\n",
        "Ans: There is no difference. The in operator checks whether a value exists as a key in the dictionary.\n",
        "\n",
        "Q.6: If a dictionary is stored in spam, what is the difference between the expressions &#39;cat&#39; in spam and\n",
        "&#39;cat&#39; in spam.values()?\n",
        "\n",
        "Ans: 'cat' in spam checks whether there is a 'cat' key in the dictionary, while 'cat' in spam.values() checks whether there is a value 'cat' for one of the keys in spam.\n",
        "\n",
        "Q.7: What is a shortcut for the following code?\n",
        "\n",
        "if &#39;color&#39; not in spam:\n",
        "\n",
        "spam[&#39;color&#39;] = &#39;black&#39;\n",
        "\n",
        "Ans: spam.setdefault('color', 'black')\n",
        "\n",
        "Q.8: How do you &quot;pretty print&quot; dictionary values using which module and function?\n",
        "\n",
        "Ans: pprint.pprint()"
      ],
      "metadata": {
        "id": "tUx1YqTJoOP1"
      }
    }
  ]
}