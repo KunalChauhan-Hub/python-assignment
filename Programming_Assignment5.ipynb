{
 "cells": [
  {
   "cell_type": "code",
   "execution_count": 12,
   "id": "7cb56b9a-eec9-4ba6-99b8-e21cb0a93088",
   "metadata": {},
   "outputs": [
    {
     "name": "stdin",
     "output_type": "stream",
     "text": [
      "Enter the first number: 10\n",
      "Enter the second number: 25\n"
     ]
    },
    {
     "name": "stdout",
     "output_type": "stream",
     "text": [
      "first number : 10\n",
      "second number : 25\n",
      "LCM is: 50\n"
     ]
    }
   ],
   "source": [
    "#Question No.1\n",
    "a=int(input(\"Enter the first number:\"))\n",
    "b=int(input(\"Enter the second number:\"))\n",
    "print(f\"first number : {a}\")\n",
    "print(f\"second number : {b}\")\n",
    "if(a>b):\n",
    "    min1=a\n",
    "else:\n",
    "    min1=b\n",
    "while(1):\n",
    "    if(min1%a==0 and min1%b==0):\n",
    "        print(\"LCM is:\",min1)\n",
    "        break\n",
    "    min1=min1+1"
   ]
  },
  {
   "cell_type": "code",
   "execution_count": 13,
   "id": "e9d8c440-8a40-421b-800e-20807a00d623",
   "metadata": {},
   "outputs": [
    {
     "name": "stdin",
     "output_type": "stream",
     "text": [
      "Enter the first number: 56\n",
      "Enter the second number: 84\n"
     ]
    },
    {
     "name": "stdout",
     "output_type": "stream",
     "text": [
      "first number : 56\n",
      "second number : 84\n",
      "Hcf of 56 and 84 is 28\n"
     ]
    }
   ],
   "source": [
    "#Question No.2\n",
    "num1 = int(input(\"Enter the first number:\"))\n",
    "num2 = int(input(\"Enter the second number:\"))\n",
    "print(f\"first number : {num1}\")\n",
    "print(f\"second number : {num2}\")\n",
    "hcf = 1\n",
    "\n",
    "for i in range(1, min(num1, num2)):\n",
    "    if num1 % i == 0 and num2 % i == 0:\n",
    "        hcf = i\n",
    "print(f\"Hcf of {num1} and {num2} is {hcf}\")"
   ]
  },
  {
   "cell_type": "code",
   "execution_count": 8,
   "id": "36ee0980-6f0e-4c50-a7c4-1b9c3cd9e0f3",
   "metadata": {},
   "outputs": [
    {
     "name": "stdin",
     "output_type": "stream",
     "text": [
      "Enter a number :  567\n"
     ]
    },
    {
     "name": "stdout",
     "output_type": "stream",
     "text": [
      "The decimal value of 567 is:\n",
      "0b1000110111 in binary.\n",
      "0o1067 in octal.\n",
      "0x237 in hexadecimal.\n"
     ]
    }
   ],
   "source": [
    "#Question No.3\n",
    "num = int(input(\"Enter a number : \"))\n",
    "\n",
    "print(\"The decimal value of\", num, \"is:\")\n",
    "print(bin(num), \"in binary.\")\n",
    "print(oct(num), \"in octal.\")\n",
    "print(hex(num), \"in hexadecimal.\")"
   ]
  },
  {
   "cell_type": "code",
   "execution_count": 14,
   "id": "8dbf8e60-5f0e-4142-aaa0-0d5c2d3ccab9",
   "metadata": {},
   "outputs": [
    {
     "name": "stdin",
     "output_type": "stream",
     "text": [
      "Please enter a character:  h\n"
     ]
    },
    {
     "name": "stdout",
     "output_type": "stream",
     "text": [
      "Character : h\n",
      "The ASCII value of 'h' is  104\n"
     ]
    }
   ],
   "source": [
    "#Question No.4\n",
    "char = input(\"Please enter a character: \") \n",
    "print(f\"Character : {char}\")\n",
    "    \n",
    "print (\"The ASCII value of '\" + char + \"' is \", ord(char))  "
   ]
  },
  {
   "cell_type": "code",
   "execution_count": 15,
   "id": "67fc0fa1-c827-4894-8ed0-0aaa53c77623",
   "metadata": {},
   "outputs": [
    {
     "name": "stdout",
     "output_type": "stream",
     "text": [
      "Please select the operation.\n",
      "a. Add\n",
      "b. Subtract\n",
      "c. Multiply\n",
      "d. Divide\n"
     ]
    },
    {
     "name": "stdin",
     "output_type": "stream",
     "text": [
      "Please enter choice (a/ b/ c/ d):  b\n"
     ]
    },
    {
     "name": "stdout",
     "output_type": "stream",
     "text": [
      "Please enter choice (a/ b/ c/ d): b\n"
     ]
    },
    {
     "name": "stdin",
     "output_type": "stream",
     "text": [
      "Please enter the first number:  50\n",
      "Please enter the second number:  48\n"
     ]
    },
    {
     "name": "stdout",
     "output_type": "stream",
     "text": [
      "first number : 50\n",
      "second number : 48\n",
      "50  -  48  =  2\n"
     ]
    }
   ],
   "source": [
    "#Question No.5\n",
    "def add(P, Q):      \n",
    "    return P + Q   \n",
    "def subtract(P, Q):      \n",
    "    return P - Q   \n",
    "def multiply(P, Q):      \n",
    "    return P * Q   \n",
    "def divide(P, Q):       \n",
    "    return P / Q        \n",
    "print (\"Please select the operation.\")    \n",
    "print (\"a. Add\")    \n",
    "print (\"b. Subtract\")    \n",
    "print (\"c. Multiply\")    \n",
    "print (\"d. Divide\")    \n",
    "    \n",
    "choice = input(\"Please enter choice (a/ b/ c/ d): \")    \n",
    "print(f\"Please enter choice (a/ b/ c/ d): {choice}\") \n",
    "    \n",
    "num_1 = int (input (\"Please enter the first number: \"))    \n",
    "num_2 = int (input (\"Please enter the second number: \"))\n",
    "print(f\"first number : {num_1}\")\n",
    "print(f\"second number : {num_2}\")\n",
    "    \n",
    "if choice == 'a':    \n",
    "    print (num_1, \" + \", num_2, \" = \", add(num_1, num_2))    \n",
    "    \n",
    "elif choice == 'b':    \n",
    "    print (num_1, \" - \", num_2, \" = \", subtract(num_1, num_2))    \n",
    "    \n",
    "elif choice == 'c':    \n",
    "    print (num1, \" * \", num2, \" = \", multiply(num1, num2))    \n",
    "elif choice == 'd':    \n",
    "    print (num_1, \" / \", num_2, \" = \", divide(num_1, num_2))    \n",
    "else:    \n",
    "    print (\"This is an invalid input\")    "
   ]
  }
 ],
 "metadata": {
  "kernelspec": {
   "display_name": "Python 3 (ipykernel)",
   "language": "python",
   "name": "python3"
  },
  "language_info": {
   "codemirror_mode": {
    "name": "ipython",
    "version": 3
   },
   "file_extension": ".py",
   "mimetype": "text/x-python",
   "name": "python",
   "nbconvert_exporter": "python",
   "pygments_lexer": "ipython3",
   "version": "3.10.6"
  }
 },
 "nbformat": 4,
 "nbformat_minor": 5
}
