{
 "cells": [
  {
   "cell_type": "code",
   "execution_count": 9,
   "id": "2a23324d-6995-4220-800b-86a2e24ef81f",
   "metadata": {},
   "outputs": [
    {
     "name": "stdin",
     "output_type": "stream",
     "text": [
      "kilometers = 52\n"
     ]
    },
    {
     "name": "stdout",
     "output_type": "stream",
     "text": [
      "Miles = 32.311292\n"
     ]
    }
   ],
   "source": [
    "#Question No.1\n",
    "distance = float(input(\"kilometers =\"))\n",
    "factor = 0.621371\n",
    "miles = distance*factor\n",
    "print(f\"Miles = {miles}\")"
   ]
  },
  {
   "cell_type": "code",
   "execution_count": 10,
   "id": "b94ba65d-74a6-4a89-af23-6d10c722ca8f",
   "metadata": {},
   "outputs": [
    {
     "name": "stdin",
     "output_type": "stream",
     "text": [
      "celcius = 90\n"
     ]
    },
    {
     "name": "stdout",
     "output_type": "stream",
     "text": [
      "Fahrenheit = 194.0\n"
     ]
    }
   ],
   "source": [
    "#Question No.2\n",
    "temp = float(input(\"celcius =\"))\n",
    "fahrenheit = (temp*1.8)+32\n",
    "print(f\"Fahrenheit = {fahrenheit}\")"
   ]
  },
  {
   "cell_type": "code",
   "execution_count": 16,
   "id": "e4a797b2-ffcf-4a30-bf6b-8d7218a1c89f",
   "metadata": {},
   "outputs": [
    {
     "name": "stdin",
     "output_type": "stream",
     "text": [
      "Enter year :  2023\n",
      "Enter month :  6\n"
     ]
    },
    {
     "name": "stdout",
     "output_type": "stream",
     "text": [
      "     June 2023\n",
      "Mo Tu We Th Fr Sa Su\n",
      "          1  2  3  4\n",
      " 5  6  7  8  9 10 11\n",
      "12 13 14 15 16 17 18\n",
      "19 20 21 22 23 24 25\n",
      "26 27 28 29 30\n",
      "\n"
     ]
    }
   ],
   "source": [
    "#Question No.3\n",
    "import calendar\n",
    "\n",
    "YYYY = int(input(\"Enter year : \"))\n",
    "MM = int(input(\"Enter month : \"))\n",
    "print(calendar.month(YYYY, MM))"
   ]
  },
  {
   "cell_type": "code",
   "execution_count": 17,
   "id": "4b98f213-061f-4779-8ae1-582919595fd7",
   "metadata": {},
   "outputs": [
    {
     "name": "stdin",
     "output_type": "stream",
     "text": [
      "Enter a:  5\n",
      "Enter b:  10\n",
      "Enter c:  5\n"
     ]
    },
    {
     "name": "stdout",
     "output_type": "stream",
     "text": [
      "The solution are (-1+0j) and (-1+0j)\n"
     ]
    }
   ],
   "source": [
    "#Question No.4\n",
    "import cmath  \n",
    "a = float(input('Enter a: '))  \n",
    "b = float(input('Enter b: '))  \n",
    "c = float(input('Enter c: '))  \n",
    "d = (b**2) - (4*a*c)  \n",
    "Solution1 = (-b-cmath.sqrt(d))/(2*a)  \n",
    "Solution2 = (-b+cmath.sqrt(d))/(2*a)  \n",
    "print('The solution are {0} and {1}'.format(Solution1,Solution2))"
   ]
  },
  {
   "cell_type": "code",
   "execution_count": 21,
   "id": "60bff7a9-5ef4-474e-8d1e-c107d5bd08ab",
   "metadata": {},
   "outputs": [
    {
     "name": "stdin",
     "output_type": "stream",
     "text": [
      "Enter first number x :  10\n",
      "Enter second number y :  20\n"
     ]
    },
    {
     "name": "stdout",
     "output_type": "stream",
     "text": [
      "Before swapping: \n",
      "Value of x :  10  and y :  20\n",
      "After swapping: \n",
      "Value of x :  20  and y :  10\n"
     ]
    }
   ],
   "source": [
    "#Question No.5\n",
    "num1 = input(\"Enter first number x : \")\n",
    "num2 = input(\"Enter second number y : \")\n",
    " \n",
    "print (\"Before swapping: \")\n",
    "print(\"Value of x : \", num1, \" and y : \", num2)\n",
    " \n",
    "num1, num2 = num2, num1\n",
    " \n",
    "print (\"After swapping: \")\n",
    "print(\"Value of x : \", num1, \" and y : \", num2)"
   ]
  }
 ],
 "metadata": {
  "kernelspec": {
   "display_name": "Python 3 (ipykernel)",
   "language": "python",
   "name": "python3"
  },
  "language_info": {
   "codemirror_mode": {
    "name": "ipython",
    "version": 3
   },
   "file_extension": ".py",
   "mimetype": "text/x-python",
   "name": "python",
   "nbconvert_exporter": "python",
   "pygments_lexer": "ipython3",
   "version": "3.10.6"
  }
 },
 "nbformat": 4,
 "nbformat_minor": 5
}
