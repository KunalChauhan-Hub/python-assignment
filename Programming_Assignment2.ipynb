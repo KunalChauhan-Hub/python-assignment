{
 "cells": [
  {
   "cell_type": "code",
   "execution_count": 9,
   "id": "2a23324d-6995-4220-800b-86a2e24ef81f",
   "metadata": {},
   "outputs": [
    {
     "name": "stdin",
     "output_type": "stream",
     "text": [
      "kilometers = 52\n"
     ]
    },
    {
     "name": "stdout",
     "output_type": "stream",
     "text": [
      "Miles = 32.311292\n"
     ]
    }
   ],
   "source": [
    "#Question No.1\n",
    "distance = float(input(\"kilometers =\"))\n",
    "factor = 0.621371\n",
    "miles = distance*factor\n",
    "print(f\"Miles = {miles}\")"
   ]
  },
  {
   "cell_type": "code",
   "execution_count": 10,
   "id": "b94ba65d-74a6-4a89-af23-6d10c722ca8f",
   "metadata": {},
   "outputs": [
    {
     "name": "stdin",
     "output_type": "stream",
     "text": [
      "celcius = 90\n"
     ]
    },
    {
     "name": "stdout",
     "output_type": "stream",
     "text": [
      "Fahrenheit = 194.0\n"
     ]
    }
   ],
   "source": [
    "#Question No.2\n",
    "temp = float(input(\"celcius =\"))\n",
    "fahrenheit = (temp*1.8)+32\n",
    "print(f\"Fahrenheit = {fahrenheit}\")"
   ]
  },
  {
   "cell_type": "code",
   "execution_count": 16,
   "id": "e4a797b2-ffcf-4a30-bf6b-8d7218a1c89f",
   "metadata": {},
   "outputs": [
    {
     "name": "stdin",
     "output_type": "stream",
     "text": [
      "Enter year :  2023\n",
      "Enter month :  6\n"
     ]
    },
    {
     "name": "stdout",
     "output_type": "stream",
     "text": [
      "     June 2023\n",
      "Mo Tu We Th Fr Sa Su\n",
      "          1  2  3  4\n",
      " 5  6  7  8  9 10 11\n",
      "12 13 14 15 16 17 18\n",
      "19 20 21 22 23 24 25\n",
      "26 27 28 29 30\n",
      "\n"
     ]
    }
   ],
   "source": [
    "#Question No.3\n",
    "import calendar\n",
    "\n",
    "YYYY = int(input(\"Enter year : \"))\n",
    "MM = int(input(\"Enter month : \"))\n",
    "print(calendar.month(YYYY, MM))"
   ]
  },
  {
   "cell_type": "code",
   "execution_count": 17,
   "id": "4b98f213-061f-4779-8ae1-582919595fd7",
   "metadata": {},
   "outputs": [
    {
     "name": "stdin",
     "output_type": "stream",
     "text": [
      "Enter a:  5\n",
      "Enter b:  10\n",
      "Enter c:  5\n"
     ]
    },
    {
     "name": "stdout",
     "output_type": "stream",
     "text": [
      "The solution are (-1+0j) and (-1+0j)\n"
     ]
    }
   ],
   "source": [
    "#Question No.4\n",
    "import cmath  \n",
    "a = float(input('Enter a: '))  \n",
    "b = float(input('Enter b: '))  \n",
    "c = float(input('Enter c: '))  \n",
    "d = (b**2) - (4*a*c)  \n",
    "Solution1 = (-b-cmath.sqrt(d))/(2*a)  \n",
    "Solution2 = (-b+cmath.sqrt(d))/(2*a)  \n",
    "print('The solution are {0} and {1}'.format(Solution1,Solution2))"
   ]
  },
  {
   "cell_type": "code",
   "execution_count": 20,
   "id": "60bff7a9-5ef4-474e-8d1e-c107d5bd08ab",
   "metadata": {},
   "outputs": [
    {
     "ename": "ValueError",
     "evalue": "invalid literal for int() with base 10: 'Enter first number x : '",
     "output_type": "error",
     "traceback": [
      "\u001b[0;31m---------------------------------------------------------------------------\u001b[0m",
      "\u001b[0;31mValueError\u001b[0m                                Traceback (most recent call last)",
      "Cell \u001b[0;32mIn [20], line 2\u001b[0m\n\u001b[1;32m      1\u001b[0m \u001b[38;5;66;03m#Question No.5\u001b[39;00m\n\u001b[0;32m----> 2\u001b[0m num1 \u001b[38;5;241m=\u001b[39m \u001b[38;5;28minput\u001b[39m(\u001b[38;5;28;43mint\u001b[39;49m\u001b[43m(\u001b[49m\u001b[38;5;124;43m\"\u001b[39;49m\u001b[38;5;124;43mEnter first number x : \u001b[39;49m\u001b[38;5;124;43m\"\u001b[39;49m\u001b[43m)\u001b[49m)\n\u001b[1;32m      3\u001b[0m num2 \u001b[38;5;241m=\u001b[39m \u001b[38;5;28minput\u001b[39m(\u001b[38;5;28mint\u001b[39m(\u001b[38;5;124m\"\u001b[39m\u001b[38;5;124mEnter second number y : \u001b[39m\u001b[38;5;124m\"\u001b[39m))\n\u001b[1;32m      5\u001b[0m \u001b[38;5;28mprint\u001b[39m (\u001b[38;5;124m\"\u001b[39m\u001b[38;5;124mBefore swapping: \u001b[39m\u001b[38;5;124m\"\u001b[39m)\n",
      "\u001b[0;31mValueError\u001b[0m: invalid literal for int() with base 10: 'Enter first number x : '"
     ]
    }
   ],
   "source": [
    "#Question No.5\n",
    "num1 = input(int(\"Enter first number x : \")\n",
    "num2 = input(int(\"Enter second number y : \"))\n",
    " \n",
    "print (\"Before swapping: \")\n",
    "print(\"Value of x : \", num1, \" and y : \", num2)\n",
    " \n",
    "num1, num2 = num2, num1\n",
    " \n",
    "print (\"After swapping: \")\n",
    "print(\"Value of x : \", num1, \" and y : \", num2)"
   ]
  }
 ],
 "metadata": {
  "kernelspec": {
   "display_name": "Python 3 (ipykernel)",
   "language": "python",
   "name": "python3"
  },
  "language_info": {
   "codemirror_mode": {
    "name": "ipython",
    "version": 3
   },
   "file_extension": ".py",
   "mimetype": "text/x-python",
   "name": "python",
   "nbconvert_exporter": "python",
   "pygments_lexer": "ipython3",
   "version": "3.10.6"
  }
 },
 "nbformat": 4,
 "nbformat_minor": 5
}
