{
 "cells": [
  {
   "cell_type": "code",
   "execution_count": 2,
   "id": "2f3c29dd-3292-4c39-ab83-bd234f42d929",
   "metadata": {},
   "outputs": [
    {
     "name": "stdout",
     "output_type": "stream",
     "text": [
      "Hello Python\n"
     ]
    }
   ],
   "source": [
    "#Qusetion No.1\n",
    "print(\"Hello Python\")"
   ]
  },
  {
   "cell_type": "code",
   "execution_count": 6,
   "id": "01a1b930-f919-40f7-a00a-6280aac7480c",
   "metadata": {},
   "outputs": [
    {
     "name": "stdin",
     "output_type": "stream",
     "text": [
      "enter first number 50\n",
      "enter second number 10\n"
     ]
    },
    {
     "name": "stdout",
     "output_type": "stream",
     "text": [
      "60\n",
      "5.0\n"
     ]
    }
   ],
   "source": [
    "#Question No.2\n",
    "num1 = int(input(\"enter first number\"))\n",
    "num2 = int(input(\"enter second number\"))\n",
    "sum = num1 + num2\n",
    "print(sum)\n",
    "division = num1/num2\n",
    "print(division)"
   ]
  },
  {
   "cell_type": "code",
   "execution_count": 7,
   "id": "c3e93171-d9c6-4e40-a42a-9ad2f1cf11da",
   "metadata": {},
   "outputs": [
    {
     "name": "stdin",
     "output_type": "stream",
     "text": [
      "Enter first side:  10\n",
      "Enter second side:  20\n",
      "Enter third side:  15\n"
     ]
    },
    {
     "name": "stdout",
     "output_type": "stream",
     "text": [
      "The area of the triangle is 72.62\n"
     ]
    }
   ],
   "source": [
    "#Question No.3\n",
    "a = float(input('Enter first side: '))  \n",
    "b = float(input('Enter second side: '))  \n",
    "c = float(input('Enter third side: '))  \n",
    "s = (a + b + c) / 2 \n",
    "area = (s*(s-a)*(s-b)*(s-c)) ** 0.5  \n",
    "print('The area of the triangle is %0.2f' %area)   "
   ]
  },
  {
   "cell_type": "code",
   "execution_count": 8,
   "id": "2e04e463-6366-4453-8fb1-09294e4cb2fd",
   "metadata": {},
   "outputs": [
    {
     "name": "stdin",
     "output_type": "stream",
     "text": [
      "Enter value of x:  10\n",
      "Enter value of y:  15\n"
     ]
    },
    {
     "name": "stdout",
     "output_type": "stream",
     "text": [
      "The value of x after swapping: 15\n",
      "The value of y after swapping: 10\n"
     ]
    }
   ],
   "source": [
    "#Question No.4\n",
    "x = input('Enter value of x: ')\n",
    "y = input('Enter value of y: ')\n",
    "temp = x\n",
    "x = y\n",
    "y = temp\n",
    "print('The value of x after swapping: {}'.format(x))\n",
    "print('The value of y after swapping: {}'.format(y))"
   ]
  },
  {
   "cell_type": "code",
   "execution_count": 16,
   "id": "dae84cdd-a697-4f2f-b9c7-6f28351ee949",
   "metadata": {},
   "outputs": [
    {
     "name": "stdout",
     "output_type": "stream",
     "text": [
      "39\n"
     ]
    }
   ],
   "source": [
    "#Question No.5\n",
    "import random  \n",
    "number = random.randint(0,100)  \n",
    "print(number)  "
   ]
  }
 ],
 "metadata": {
  "kernelspec": {
   "display_name": "Python 3 (ipykernel)",
   "language": "python",
   "name": "python3"
  },
  "language_info": {
   "codemirror_mode": {
    "name": "ipython",
    "version": 3
   },
   "file_extension": ".py",
   "mimetype": "text/x-python",
   "name": "python",
   "nbconvert_exporter": "python",
   "pygments_lexer": "ipython3",
   "version": "3.10.6"
  }
 },
 "nbformat": 4,
 "nbformat_minor": 5
}
