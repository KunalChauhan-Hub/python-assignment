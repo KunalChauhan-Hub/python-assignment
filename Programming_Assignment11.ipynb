{
 "cells": [
  {
   "cell_type": "code",
   "execution_count": 1,
   "id": "a5d1d494-35fb-4d4f-a60e-7bb7be512fa2",
   "metadata": {},
   "outputs": [
    {
     "name": "stdout",
     "output_type": "stream",
     "text": [
      "['POLICEMEN', 'reading', 'letter', 'morning', 'search', 'nothing', 'found.']\n"
     ]
    }
   ],
   "source": [
    "#Question No.1\n",
    "def string_k(k, str):\n",
    "    string = []\n",
    "    text = str.split(\" \")\n",
    "     \n",
    "    for x in text:\n",
    "        if len(x) > k:\n",
    "            string.append(x)\n",
    "    return string\n",
    "    \n",
    "k = 5\n",
    "str =\"The POLICEMEN on reading this letter went early in the morning and dug the whole field in search of the money but nothing was found.\"\n",
    "print(string_k(k, str))"
   ]
  },
  {
   "cell_type": "code",
   "execution_count": 7,
   "id": "0a4e5030-a32c-4c57-8acd-832626eb755e",
   "metadata": {},
   "outputs": [
    {
     "name": "stdout",
     "output_type": "stream",
     "text": [
      "POLICMAN\n"
     ]
    }
   ],
   "source": [
    "#Question No.2\n",
    "def remove(string, i):\n",
    "    a = string[: i]\n",
    "    b = string[i + 1:]\n",
    "\n",
    "    return a + b\n",
    " \n",
    "if __name__ == '__main__':\n",
    "    string = \"POLICEMAN\"\n",
    "    i = 5\n",
    "    print(remove(string, i))"
   ]
  },
  {
   "cell_type": "code",
   "execution_count": 8,
   "id": "978bd336-060f-4247-bd22-56af07af27ea",
   "metadata": {},
   "outputs": [
    {
     "name": "stdout",
     "output_type": "stream",
     "text": [
      "['The', 'POLICEMEN', 'on', 'reading', 'this', 'letter', 'went', 'early', 'in', 'the', 'morning', 'and', 'dug', 'the', 'whole', 'field', 'in', 'search', 'of', 'the', 'money', 'but', 'nothing', 'was', 'found.']\n",
      "The-POLICEMEN-on-reading-this-letter-went-early-in-the-morning-and-dug-the-whole-field-in-search-of-the-money-but-nothing-was-found.\n"
     ]
    }
   ],
   "source": [
    "#Question No.3\n",
    "s = 'The POLICEMEN on reading this letter went early in the morning and dug the whole field in search of the money but nothing was found.'\n",
    "print(s.split(\" \"))\n",
    "print(\"-\".join(s.split()))"
   ]
  },
  {
   "cell_type": "code",
   "execution_count": 9,
   "id": "e9a10f38-9f9a-4537-9c21-429d9d2a2b4b",
   "metadata": {},
   "outputs": [
    {
     "name": "stdout",
     "output_type": "stream",
     "text": [
      "Yes\n"
     ]
    }
   ],
   "source": [
    "#Question No.4\n",
    "def check(string):\n",
    "    p = set(string)\n",
    "    s = {'0', '1'}\n",
    "    if s == p or p == {'0'} or p == {'1'}:\n",
    "        print(\"Yes\")\n",
    "    else:\n",
    "        print(\"No\")\n",
    "\n",
    "if __name__ == \"__main__\":\n",
    " \n",
    "    string = \"101010000111\"\n",
    "    check(string)"
   ]
  },
  {
   "cell_type": "code",
   "execution_count": 10,
   "id": "03909ac6-a49e-48a0-afed-d107e0d0cb8d",
   "metadata": {},
   "outputs": [
    {
     "name": "stdout",
     "output_type": "stream",
     "text": [
      "['filled', 'He', 'till', 'homes.', 'a', 'about', 'wicked', 'cup', 'lifestyle', 'thief', 'SON', 'farmer', 'day', 'and', 'this', 'only', 'certain', 'continued', 'people’s', 'goes', 'the', 'who', 'from', 'lived', 'was', 'village', 'The', 'In', 'stealing', 'son.', 'got']\n"
     ]
    }
   ],
   "source": [
    "#Question No.5\n",
    "def UncommonWords(A, B):\n",
    "    A=A.split()\n",
    "    B=B.split()\n",
    "    x=[]\n",
    "    for i in A:\n",
    "        if i not in B:\n",
    "            x.append(i)\n",
    "    for i in B:\n",
    "        if i not in A:\n",
    "            x.append(i)\n",
    "    x=list(set(x))\n",
    "    return x\n",
    "             \n",
    "A = \"In a certain village lived a farmer and his only son. The SON was a thief who goes about stealing from people’s homes.\"\n",
    "B = \"He continued this wicked lifestyle till the day his cup got filled\"\n",
    "print(UncommonWords(A, B))"
   ]
  },
  {
   "cell_type": "code",
   "execution_count": 17,
   "id": "908e47c9-8f1e-44e8-be78-d6a190c345db",
   "metadata": {},
   "outputs": [
    {
     "name": "stdout",
     "output_type": "stream",
     "text": [
      "['e', ' ', 'c', 'o', 'n', 't', 'i', 'u', 'd', 'h', 's', 'l', 'f', 'y']\n"
     ]
    }
   ],
   "source": [
    "#Question No.6\n",
    "def duplicate_characters(string):\n",
    "    chars = {}\n",
    "    for char in string:\n",
    "        if char not in chars:\n",
    "            chars[char] = 1\n",
    "        else:\n",
    "            chars[char] += 1\n",
    " \n",
    "    duplicates = []\n",
    "    for char, count in chars.items():\n",
    "        if count > 1:\n",
    "            duplicates.append(char)\n",
    " \n",
    "    return duplicates\n",
    "\n",
    "print(duplicate_characters(\"He continued this wicked lifestyle till the day his cup got filled\"))"
   ]
  },
  {
   "cell_type": "code",
   "execution_count": 18,
   "id": "db1b1447-1d8c-47da-8bbd-67aa706246c5",
   "metadata": {},
   "outputs": [
    {
     "name": "stdout",
     "output_type": "stream",
     "text": [
      "string is not accepted\n"
     ]
    }
   ],
   "source": [
    "#Question No.7\n",
    "n=\"He $continu%ed thi@s wic*ked lif!estyle t#ill the da$y his c$up got f&illed\"\n",
    "n.split()\n",
    "c=0\n",
    "s='[@_!#$%^&*()<>?/\\|}{~:]' \n",
    "for i in range(len(n)):\n",
    "    if n[i] in s:\n",
    "        c+=1\n",
    "    \n",
    "if c:\n",
    "    print(\"string is not accepted\")\n",
    "else:\n",
    "    print(\"string accepted\")"
   ]
  }
 ],
 "metadata": {
  "kernelspec": {
   "display_name": "Python 3 (ipykernel)",
   "language": "python",
   "name": "python3"
  },
  "language_info": {
   "codemirror_mode": {
    "name": "ipython",
    "version": 3
   },
   "file_extension": ".py",
   "mimetype": "text/x-python",
   "name": "python",
   "nbconvert_exporter": "python",
   "pygments_lexer": "ipython3",
   "version": "3.10.6"
  }
 },
 "nbformat": 4,
 "nbformat_minor": 5
}
