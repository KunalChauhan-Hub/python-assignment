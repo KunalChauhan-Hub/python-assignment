{
  "nbformat": 4,
  "nbformat_minor": 0,
  "metadata": {
    "colab": {
      "provenance": []
    },
    "kernelspec": {
      "name": "python3",
      "display_name": "Python 3"
    },
    "language_info": {
      "name": "python"
    }
  },
  "cells": [
    {
      "cell_type": "markdown",
      "source": [
        "Q.1: Is the Python Standard Library included with PyInputPlus?\n",
        "\n",
        "Ans: PyInputPlus is not a part of the Python Standard Library, we must install it separately using Pip.\n",
        "\n",
        "Q.2: Why is PyInputPlus commonly imported with import pyinputplus as pypi?\n",
        "\n",
        "Ans:  import the module with import pyinputplus as pyip so that you can enter a shorter name when calling the module’s functions.\n",
        "\n",
        "Q.3: How do you distinguish between inputInt() and inputFloat()?\n",
        "\n",
        "Ans: The difference is in the data-type when you use the first one the program expects an integer value as input but in the latter it expects a float value i.e number containing a decimal.\n",
        "\n",
        "Q.4: Using PyInputPlus, how do you ensure that the user enters a whole number between 0 and 99?\n",
        "\n",
        "Ans: By using pyip.inputint(min=0, max=99)\n",
        "\n",
        "Q.5: What is transferred to the keyword arguments allowRegexes and blockRegexes?\n",
        "\n",
        "Ans: A list of regex strings that are either explicitly allowed or denied.\n",
        "\n",
        "Q.6: If a blank input is entered three times, what does inputStr(limit=3) do?\n",
        "\n",
        "Ans: The function will raise RetryLimitException.\n",
        "\n",
        "Q.7: If blank input is entered three times, what does inputStr(limit=3, default=&#39;hello&#39;) do?\n",
        "\n",
        "Ans: The function returns the value 'hello'"
      ],
      "metadata": {
        "id": "KdnPdhQNDIWz"
      }
    }
  ]
}