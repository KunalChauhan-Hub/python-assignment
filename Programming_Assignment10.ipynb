{
 "cells": [
  {
   "cell_type": "code",
   "execution_count": 2,
   "id": "896f6a6c-6177-4a4d-8f33-f3b70112e136",
   "metadata": {},
   "outputs": [
    {
     "name": "stdout",
     "output_type": "stream",
     "text": [
      "2223\n"
     ]
    }
   ],
   "source": [
    "#Question No.1\n",
    "list1 = [94,6,3,659,89,5,66,58,68,62,324,789]\n",
    "\n",
    "sum_list1 = 0\n",
    "for element in range(0,len(list1)):\n",
    "    sum_list1 = sum_list1 + list1[element]\n",
    "    \n",
    "print(sum_list1)"
   ]
  },
  {
   "cell_type": "code",
   "execution_count": 4,
   "id": "d9e30727-ac39-4691-b5b9-b20091e9557b",
   "metadata": {},
   "outputs": [
    {
     "name": "stdout",
     "output_type": "stream",
     "text": [
      "2047105989675490106880\n"
     ]
    }
   ],
   "source": [
    "#Question No.2\n",
    "list2 = [94,6,3,659,89,5,66,58,68,62,324,789]\n",
    "\n",
    "product = 1\n",
    "for element in range(0,len(list2)):\n",
    "    product = product*list2[element]\n",
    "    \n",
    "print(product)"
   ]
  },
  {
   "cell_type": "code",
   "execution_count": 5,
   "id": "10910e51-4834-4f4a-96d7-0aacd6a75e3d",
   "metadata": {},
   "outputs": [
    {
     "name": "stdout",
     "output_type": "stream",
     "text": [
      "smallest number :  1\n"
     ]
    }
   ],
   "source": [
    "#Question No.3\n",
    "list3 = [8,5,4,6,9,6,2,4,7,1,52,3,36]\n",
    "\n",
    "print(f'smallest number : ', min(list3))"
   ]
  },
  {
   "cell_type": "code",
   "execution_count": 6,
   "id": "76252c11-7332-4096-b7b9-b535b0f3f023",
   "metadata": {},
   "outputs": [
    {
     "name": "stdout",
     "output_type": "stream",
     "text": [
      "largest number :  52\n"
     ]
    }
   ],
   "source": [
    "#Question No.4\n",
    "list4 = [8,5,4,6,9,6,2,4,7,1,52,3,36]\n",
    "\n",
    "print(f'largest number : ', max(list4))"
   ]
  },
  {
   "cell_type": "code",
   "execution_count": 8,
   "id": "fb15baf8-f27d-402a-9819-d03cc8f7a2b0",
   "metadata": {},
   "outputs": [
    {
     "name": "stdout",
     "output_type": "stream",
     "text": [
      "Second largest element is: 897\n"
     ]
    }
   ],
   "source": [
    "#Question No.5\n",
    "list1 = [4,897,684,54,24,5789,1,65,7,894,3,54]\n",
    " \n",
    "list2 = list(set(list1))\n",
    " \n",
    "list2.sort()\n",
    " \n",
    "print(\"Second largest element is:\", list2[-2])"
   ]
  },
  {
   "cell_type": "code",
   "execution_count": 9,
   "id": "c2df8925-6d5f-41a0-9b68-448120537d22",
   "metadata": {},
   "outputs": [
    {
     "name": "stdout",
     "output_type": "stream",
     "text": [
      "[789, 798, 5486, 6878]\n"
     ]
    }
   ],
   "source": [
    "#Question No.6\n",
    "l = [7,89,654,698,789,789,798,765,4,4,6878,94,242,15,456,54,21,5486,789,4,64,547,89]\n",
    "n = 4\n",
    " \n",
    "l.sort()\n",
    "print(l[-n:])"
   ]
  },
  {
   "cell_type": "code",
   "execution_count": 10,
   "id": "13438afb-d5b7-4a77-9bf0-d7c342f8c357",
   "metadata": {},
   "outputs": [
    {
     "name": "stdout",
     "output_type": "stream",
     "text": [
      "10 4 66 "
     ]
    }
   ],
   "source": [
    "#Question No.7\n",
    "list1 = [10, 21, 4, 45, 66, 93]\n",
    " \n",
    "for num in list1:\n",
    "    if num % 2 == 0:\n",
    "        print(num, end=\" \")"
   ]
  },
  {
   "cell_type": "code",
   "execution_count": 11,
   "id": "b2e8345d-d915-46b6-82c2-bfa803f0205a",
   "metadata": {},
   "outputs": [
    {
     "name": "stdout",
     "output_type": "stream",
     "text": [
      "21 45 93 "
     ]
    }
   ],
   "source": [
    "#Question No.8\n",
    "list1 = [10, 21, 4, 45, 66, 93]\n",
    " \n",
    "for num in list1:\n",
    "    if num % 2 != 0:\n",
    "        print(num, end=\" \")"
   ]
  },
  {
   "cell_type": "code",
   "execution_count": 13,
   "id": "791d2312-391a-4093-8b64-6906d661995e",
   "metadata": {},
   "outputs": [
    {
     "name": "stdout",
     "output_type": "stream",
     "text": [
      "The original list is : [5, 6, [], 3, [], [], 9]\n",
      "List after empty list removal : [5, 6, 3, 9]\n"
     ]
    }
   ],
   "source": [
    "#Question No.9\n",
    "test_list = [5, 6, [], 3, [], [], 9]\n",
    "print(\"The original list is : \" + str(test_list))\n",
    "res = list(filter(None, test_list))\n",
    "print(\"List after empty list removal : \" + str(res))"
   ]
  },
  {
   "cell_type": "code",
   "execution_count": 14,
   "id": "b3632be7-3cff-4cf7-a2eb-89927fa6a9da",
   "metadata": {},
   "outputs": [
    {
     "name": "stdout",
     "output_type": "stream",
     "text": [
      "Original List: [4, 8, 2, 10, 15, 18]\n",
      "After Cloning: [4, 8, 2, 10, 15, 18]\n"
     ]
    }
   ],
   "source": [
    "#Question No.10\n",
    "def Cloning(list1):\n",
    "    li_copy = list1[:]\n",
    "    return li_copy\n",
    " \n",
    "list1 = [4, 8, 2, 10, 15, 18]\n",
    "list2 = Cloning(list1)\n",
    "print(\"Original List:\", list1)\n",
    "print(\"After Cloning:\", list2)"
   ]
  },
  {
   "cell_type": "code",
   "execution_count": null,
   "id": "b7ff83e7-0c6c-4d4f-89b5-537cc90a5919",
   "metadata": {},
   "outputs": [],
   "source": [
    "#Question No.11\n"
   ]
  }
 ],
 "metadata": {
  "kernelspec": {
   "display_name": "Python 3 (ipykernel)",
   "language": "python",
   "name": "python3"
  },
  "language_info": {
   "codemirror_mode": {
    "name": "ipython",
    "version": 3
   },
   "file_extension": ".py",
   "mimetype": "text/x-python",
   "name": "python",
   "nbconvert_exporter": "python",
   "pygments_lexer": "ipython3",
   "version": "3.10.6"
  }
 },
 "nbformat": 4,
 "nbformat_minor": 5
}
