{
  "nbformat": 4,
  "nbformat_minor": 0,
  "metadata": {
    "colab": {
      "provenance": []
    },
    "kernelspec": {
      "name": "python3",
      "display_name": "Python 3"
    },
    "language_info": {
      "name": "python"
    }
  },
  "cells": [
    {
      "cell_type": "markdown",
      "source": [
        "Q.1: What are escape characters, and how do you use them?\n",
        "\n",
        "Ans: Escape characters represent characters in string values that would otherwise be difficult or impossible to type into code.\n",
        "\n",
        "Q.2: What do the escape characters n and t stand for?\n",
        "\n",
        "Ans: \\n is a newline; \\t is a tab.\n",
        "\n",
        "Q.3: What is the way to include backslash characters in a string?\n",
        "\n",
        "Ans: The \\\\ escape character will represent a backslash character.\n",
        "\n",
        "Q.4: The string &quot;Howl&#39;s Moving Castle&quot; is a correct value. Why isn&#39;t the single quote character in the\n",
        "word Howl&#39;s not escaped a problem?\n",
        "\n",
        "Ans: The single quote in Howl's is fine because you’ve used double quotes to mark the beginning and end of the string.\n",
        "\n",
        "Q.5: How do you write a string of newlines if you don&#39;t want to use the n character?\n",
        "\n",
        "Ans: Multiline strings allow you to use newlines in strings without the \\n escape character.\n",
        "\n",
        "Q.6: What are the values of the given expressions?\n",
        "\n",
        "&#39;Hello, world!&#39;[1]\n",
        "\n",
        "&#39;Hello, world!&#39;[0:5]\n",
        "\n",
        "&#39;Hello, world!&#39;[:5]\n",
        "\n",
        "&#39;Hello, world!&#39;[3:]\n",
        "\n",
        "Ans: 'e'\n",
        "\n",
        "'Hello'\n",
        "\n",
        "'Hello'\n",
        "\n",
        "'lo world!\n",
        "\n",
        "Q.7: What are the values of the following expressions?\n",
        "\n",
        "&#39;Hello&#39;.upper()\n",
        "\n",
        "&#39;Hello&#39;.upper().isupper()\n",
        "\n",
        "&#39;Hello&#39;.upper().lower()\n",
        "\n",
        "Ans: 'HELLO'\n",
        "\n",
        "True\n",
        "\n",
        "'hello'\n",
        "\n",
        "Q.8: What are the values of the following expressions?\n",
        "\n",
        "&#39;Remember, remember, the fifth of July.&#39;.split()\n",
        "\n",
        "&#39;-&#39;.join(&#39;There can only one.&#39;.split())\n",
        "\n",
        "Ans: ['Remember,', 'remember,', 'the', 'fifth', 'of', 'November.']\n",
        "\n",
        "'There-can-be-only-one.'\n",
        "\n",
        "Q.9: What are the methods for right-justifying, left-justifying, and centering a string?\n",
        "\n",
        "Ans: The rjust(), ljust(), and center() string methods, respectively\n",
        "\n",
        "Q.10: What is the best way to remove whitespace characters from the start or end?\n",
        "\n",
        "Ans: The lstrip() and rstrip() methods remove whitespace from the left and right ends of a string, respectively."
      ],
      "metadata": {
        "id": "uN4DMj42qNsz"
      }
    }
  ]
}