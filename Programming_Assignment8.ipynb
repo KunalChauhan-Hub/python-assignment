{
 "cells": [
  {
   "cell_type": "code",
   "execution_count": 2,
   "id": "288ef531-91ef-489a-8887-ba023a661ebd",
   "metadata": {},
   "outputs": [
    {
     "name": "stdout",
     "output_type": "stream",
     "text": [
      "[8, 9, 9]\n",
      "[15, 4, 17]\n",
      "[12, 3, 8]\n"
     ]
    }
   ],
   "source": [
    "#Question No.1\n",
    "X = [[1,3,7],\n",
    "    [8,1,9],\n",
    "    [6,3,1]]\n",
    "\n",
    "Y = [[7,6,2],\n",
    "    [7,3,8],\n",
    "    [6,0,7]]\n",
    "\n",
    "result = [[X[i][j] + Y[i][j]  for j in range(len(X[0]))] for i in range(len(X))]\n",
    "\n",
    "for r in result:\n",
    "    print(r)"
   ]
  },
  {
   "cell_type": "code",
   "execution_count": 3,
   "id": "36b26db0-8442-400a-ba1a-ffd50c3c435f",
   "metadata": {},
   "outputs": [
    {
     "name": "stdout",
     "output_type": "stream",
     "text": [
      "[70, 15, 75, 48]\n",
      "[117, 51, 87, 82]\n",
      "[69, 45, 43, 60]\n"
     ]
    }
   ],
   "source": [
    "#Question No.2\n",
    "X = [[1,3,7],\n",
    "    [8,1,9],\n",
    "    [6,3,1]]\n",
    "\n",
    "Y = [[7,6,2,6],\n",
    "    [7,3,8,7],\n",
    "    [6,0,7,3]]\n",
    "\n",
    "result = [[0,0,0,0],\n",
    "     [0,0,0,0],\n",
    "     [0,0,0,0]]\n",
    "for i in range(len(X)):\n",
    "    for j in range(len(Y[0])):\n",
    "        for k in range(len(Y)):\n",
    "            result[i][j] += X[i][k] * Y[k][j]\n",
    "for r in result:\n",
    "    print(r)"
   ]
  },
  {
   "cell_type": "code",
   "execution_count": 5,
   "id": "c130e4bd-294b-4165-a288-bb8f2575d210",
   "metadata": {},
   "outputs": [
    {
     "name": "stdout",
     "output_type": "stream",
     "text": [
      "[7, 7, 6]\n",
      "[6, 3, 0]\n",
      "[2, 8, 7]\n",
      "[6, 7, 3]\n"
     ]
    }
   ],
   "source": [
    "#Question No.3\n",
    "Y = [[7,6,2,6],\n",
    "    [7,3,8,7],\n",
    "    [6,0,7,3]]\n",
    "\n",
    "result = [[0,0,0,],\n",
    "          [0,0,0,],\n",
    "          [0,0,0,],\n",
    "          [0,0,0,]]\n",
    "          \n",
    "for i in range(len(Y)):\n",
    "    for j in range(len(Y[0])):\n",
    "        result[j][i] = Y[i][j]\n",
    "        \n",
    "for r in result:\n",
    "    print(r)"
   ]
  },
  {
   "cell_type": "code",
   "execution_count": 6,
   "id": "1fa27bed-0658-4969-a8f1-9dbd49c50689",
   "metadata": {},
   "outputs": [
    {
     "name": "stdin",
     "output_type": "stream",
     "text": [
      "Enter a string:  A hot cup of cocoa on a cold winter day.\n"
     ]
    },
    {
     "name": "stdout",
     "output_type": "stream",
     "text": [
      "Enter a string: A hot cup of cocoa on a cold winter day.\n",
      "The sorted words are:\n",
      "a\n",
      "a\n",
      "cocoa\n",
      "cold\n",
      "cup\n",
      "day.\n",
      "hot\n",
      "of\n",
      "on\n",
      "winter\n"
     ]
    }
   ],
   "source": [
    "#Question No.4\n",
    "my_str = input(\"Enter a string: \")\n",
    "print(f\"Enter a string: {my_str}\")\n",
    "words = [word.lower() for word in my_str.split()]\n",
    "words.sort()\n",
    "print(\"The sorted words are:\")\n",
    "for word in words:\n",
    "    print(word)"
   ]
  },
  {
   "cell_type": "code",
   "execution_count": 25,
   "id": "bc3e7f80-d3d5-4027-b898-29e03a4a6b2e",
   "metadata": {},
   "outputs": [
    {
     "name": "stdin",
     "output_type": "stream",
     "text": [
      "Enter the string:  A , /hot[ -cup] of' :cocoa^ on& ? a \"cold \"winter !day.\n"
     ]
    },
    {
     "name": "stdout",
     "output_type": "stream",
     "text": [
      "Enter the string: A , /hot[ -cup] of' :cocoa^ on& ? a \"cold \"winter !day.\n",
      " A  hot cup of cocoa on  a cold winter day\n"
     ]
    }
   ],
   "source": [
    "#Question No.5\n",
    "punc = '''!()-[]{};:'\"\\,<>./?@#$%^&*_~'''\n",
    "str_1 = input (\"Enter the string: \")\n",
    "print(f\"Enter the string: {str_1}\")\n",
    "no_punc = \" \"\n",
    "for char in str_1:\n",
    "    if char not in punc:\n",
    "        no_punc = no_punc + char\n",
    "print (no_punc)"
   ]
  }
 ],
 "metadata": {
  "kernelspec": {
   "display_name": "Python 3 (ipykernel)",
   "language": "python",
   "name": "python3"
  },
  "language_info": {
   "codemirror_mode": {
    "name": "ipython",
    "version": 3
   },
   "file_extension": ".py",
   "mimetype": "text/x-python",
   "name": "python",
   "nbconvert_exporter": "python",
   "pygments_lexer": "ipython3",
   "version": "3.10.6"
  }
 },
 "nbformat": 4,
 "nbformat_minor": 5
}
